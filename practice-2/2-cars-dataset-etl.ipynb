{
 "cells": [
  {
   "cell_type": "markdown",
   "id": "54ae5551",
   "metadata": {},
   "source": [
    "# Практика PySpark и SparkSQL (pyspark.sql.functions)"
   ]
  },
  {
   "cell_type": "markdown",
   "id": "a5b500f5",
   "metadata": {},
   "source": [
    "**Задача**. Сделать пайплайн обработки файла `cars.csv`. \n",
    "\n",
    "Необходимо посчитать по каждому производителю (поле `manufacturer_name`):\n",
    "- кол-во объявлений\n",
    "- средний год выпуска автомобилей\n",
    "- минимальную цену\n",
    "- максимальную цену\n",
    "\n",
    "Выгрузить результат в `output.csv`."
   ]
  },
  {
   "cell_type": "code",
   "execution_count": 3,
   "id": "5cf69b29-8d04-4c82-a440-3da043226277",
   "metadata": {},
   "outputs": [],
   "source": [
    "from pyspark.sql import SparkSession\n",
    "import pyspark.sql.functions as F\n",
    "import pyspark.sql.types as t\n",
    "\n",
    "def main():\n",
    "    spark = SparkSession.builder.getOrCreate()\n",
    "\n",
    "    df = spark.read.format(\"csv\").option(\"header\", \"true\").load(\"data/cars.csv\")\n",
    "\n",
    "    output = (\n",
    "        df\n",
    "        .groupBy(\"manufacturer_name\")\n",
    "        .agg(\n",
    "            F.count(\"manufacturer_name\").alias(\"count\"),\n",
    "            F.round(F.avg(\"year_produced\")).cast(t.IntegerType()).alias(\"avg_year\"),\n",
    "            F.min(F.col(\"price_usd\").cast(t.FloatType())).alias(\"min_price\"),\n",
    "            F.max(\"price_usd\").cast(t.FloatType()).alias(\"max_price\")\n",
    "        )\n",
    "    )\n",
    "\n",
    "    output.coalesce(4).write.mode(\"overwrite\").format(\"json\").save(\"result.json\")\n",
    "\n",
    "main()"
   ]
  },
  {
   "cell_type": "code",
   "execution_count": 4,
   "id": "6408e0da",
   "metadata": {},
   "outputs": [],
   "source": [
    "from pyspark.sql import SparkSession\n",
    "import pyspark.sql.functions as F\n",
    "import pyspark.sql.types as t\n",
    "\n",
    "def extract_data(spark: SparkSession, path: str):\n",
    "    \"\"\"Загрузка данных из CSV.\"\"\"\n",
    "    return spark.read.format(\"csv\").option(\"header\", \"true\").load(path)\n",
    "\n",
    "def transform_data(df):\n",
    "    \"\"\"Группировка и агрегация данных по производителю.\"\"\"\n",
    "    return (\n",
    "        df\n",
    "        .groupBy(\"manufacturer_name\")\n",
    "        .agg(\n",
    "            F.count(\"manufacturer_name\").alias(\"count\"),\n",
    "            F.round(F.avg(\"year_produced\")).cast(t.IntegerType()).alias(\"avg_year\"),\n",
    "            F.min(\"price_usd\").alias(\"min_price\"),\n",
    "            F.max(\"price_usd\").alias(\"max_price\")\n",
    "        )\n",
    "    )\n",
    "\n",
    "def save_data(df, output_path: str):\n",
    "    \"\"\"Сохранение результата в json.\"\"\"\n",
    "    df.write.mode(\"overwrite\").format(\"json\").save(output_path)\n",
    "\n",
    "def main():\n",
    "    spark = SparkSession.builder.appName(\"Cars ETL\").getOrCreate()\n",
    "    df = extract_data(spark, \"data/cars.csv\")\n",
    "    result = transform_data(df)\n",
    "    save_data(result, \"result.json\")\n",
    "    spark.stop()\n",
    "\n",
    "if __name__ == \"__main__\":\n",
    "    main()\n"
   ]
  },
  {
   "cell_type": "code",
   "execution_count": null,
   "id": "60146f86-184e-4cbb-a072-5bf4721a5625",
   "metadata": {},
   "outputs": [],
   "source": []
  }
 ],
 "metadata": {
  "kernelspec": {
   "display_name": "Python 3 (ipykernel)",
   "language": "python",
   "name": "python3"
  },
  "language_info": {
   "codemirror_mode": {
    "name": "ipython",
    "version": 3
   },
   "file_extension": ".py",
   "mimetype": "text/x-python",
   "name": "python",
   "nbconvert_exporter": "python",
   "pygments_lexer": "ipython3",
   "version": "3.11.6"
  }
 },
 "nbformat": 4,
 "nbformat_minor": 5
}
